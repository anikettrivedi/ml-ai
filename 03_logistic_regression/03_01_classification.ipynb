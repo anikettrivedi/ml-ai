{
 "cells": [
  {
   "cell_type": "markdown",
   "id": "fc1f8963-907e-4f79-872b-8e3636ad702a",
   "metadata": {
    "tags": []
   },
   "source": [
    "# Classification Problems\n",
    "\n",
    "![](img_classification_prob.JPG)"
   ]
  },
  {
   "cell_type": "code",
   "execution_count": 1,
   "id": "f4a23b53-7554-464d-8419-82e73e482508",
   "metadata": {},
   "outputs": [],
   "source": [
    "import numpy as np\n",
    "import matplotlib.pyplot as plt"
   ]
  },
  {
   "cell_type": "code",
   "execution_count": 2,
   "id": "243f904c-94bf-431b-9883-a94d22afe5e9",
   "metadata": {
    "tags": []
   },
   "outputs": [],
   "source": [
    "x_train = np.array([0., 1, 2, 3, 4, 5])\n",
    "y_train = np.array([0,  0, 0, 1, 1, 1])\n",
    "X_train2 = np.array([[0.5, 1.5], [1,1], [1.5, 0.5], [3, 0.5], [2, 2], [1, 2.5]])\n",
    "y_train2 = np.array([0, 0, 0, 1, 1, 1])"
   ]
  },
  {
   "cell_type": "code",
   "execution_count": 14,
   "id": "587bfb58-73d4-4a16-b9f5-e2764ae1a01b",
   "metadata": {
    "tags": []
   },
   "outputs": [
    {
     "data": {
      "image/png": "[encoded data removed]",
      "text/plain": [
       "<Figure size 576x216 with 2 Axes>"
      ]
     },
     "metadata": {
      "needs_background": "light"
     },
     "output_type": "display_data"
    }
   ],
   "source": [
    "# plotting\n",
    "\n",
    "pos = y_train == 1\n",
    "neg = y_train == 0\n",
    "\n",
    "fix, ax = plt.subplots(1, 2, figsize=(8,3))\n",
    "\n",
    "# plot 1, single variable\n",
    "ax[0].scatter(x_train[pos], y_train[pos], marker='x', s = 80, label=\"y=1\", c = 'red')\n",
    "ax[0].scatter(x_train[neg], y_train[neg], marker='o', s = 80, label=\"y=0\", c = 'blue')\n",
    "\n",
    "ax[0].set_ylabel('y')\n",
    "ax[0].set_xlabel('x')\n",
    "ax[0].set_title('one variable plot')\n",
    "ax[0].legend()\n",
    "\n",
    "\n",
    "# plot 2, 2 variables\n",
    "pos = y_train2 == 1\n",
    "neg = y_train2 == 0\n",
    "\n",
    "ax[1].axis([0,4,0,4])\n",
    "\n",
    "ax[1].scatter(X_train2[pos][:,0], X_train2[pos][:,1], marker='x', s = 80, label=\"y=1\", c = 'red')\n",
    "ax[1].scatter(X_train2[neg][:,0], X_train2[neg][:,1], marker='o', s = 80, label=\"y=0\", c = 'blue')\n",
    "\n",
    "ax[1].set_ylabel('$x_1$')\n",
    "ax[1].set_xlabel('$x_0$')\n",
    "ax[1].set_title('two variable plot')\n",
    "ax[1].legend()\n",
    "\n",
    "plt.show()"
   ]
  },
  {
   "cell_type": "markdown",
   "id": "0db29cda-4810-4d86-bab2-8194a3823b0c",
   "metadata": {},
   "source": [
    "### Note in the plots above:\n",
    "\n",
    "- In the single variable plot, positive results are shown both a red 'X's and as y=1. Negative results are blue 'O's and are located at y=0.\n",
    "    - Recall in the case of linear regression, y would not have been limited to two values but could have been any value.\n",
    "- In the two-variable plot, the y axis is not available. Positive results are shown as red 'X's, while negative results use the blue 'O' symbol.\n",
    "    - Recall in the case of linear regression with multiple variables, y would not have been limited to two values and a similar plot would have been three-dimensional.\n",
    "\n"
   ]
  },
  {
   "cell_type": "code",
   "execution_count": null,
   "id": "88f78aa8-7556-40e5-9a0a-7ea3ab00c5ef",
   "metadata": {},
   "outputs": [],
   "source": []
  }
 ],
 "metadata": {
  "kernelspec": {
   "display_name": "Python 3",
   "language": "python",
   "name": "python3"
  },
  "language_info": {
   "codemirror_mode": {
    "name": "ipython",
    "version": 3
   },
   "file_extension": ".py",
   "mimetype": "text/x-python",
   "name": "python",
   "nbconvert_exporter": "python",
   "pygments_lexer": "ipython3",
   "version": "3.8.3"
  }
 },
 "nbformat": 4,
 "nbformat_minor": 5
}
