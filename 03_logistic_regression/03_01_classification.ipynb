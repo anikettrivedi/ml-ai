{
 "cells": [
  {
   "cell_type": "markdown",
   "id": "c40483fb-f0e5-4483-810d-5dc84c7361ff",
   "metadata": {
    "tags": []
   },
   "source": [
    "# Classification Problems\n",
    "\n"
   ]
  }
 ],
 "metadata": {
  "kernelspec": {
   "display_name": "Python 3",
   "language": "python",
   "name": "python3"
  },
  "language_info": {
   "codemirror_mode": {
    "name": "ipython",
    "version": 3
   },
   "file_extension": ".py",
   "mimetype": "text/x-python",
   "name": "python",
   "nbconvert_exporter": "python",
   "pygments_lexer": "ipython3",
   "version": "3.8.3"
  }
 },
 "nbformat": 4,
 "nbformat_minor": 5
}
