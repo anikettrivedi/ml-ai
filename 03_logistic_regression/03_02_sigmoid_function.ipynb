{
 "cells": [
  {
   "cell_type": "markdown",
   "id": "3d132e54-93b0-44d3-a073-0c81351e5357",
   "metadata": {},
   "source": [
    "# Sigmoid or Logistic Function & Logistic Regression Introduction\n",
    "\n",
    "![](img_sigmoid.JPG)"
   ]
  },
  {
   "cell_type": "code",
   "execution_count": 27,
   "id": "bb77622a-d407-486d-b7b8-aead6e722c51",
   "metadata": {
    "tags": []
   },
   "outputs": [],
   "source": [
    "import numpy as np\n",
    "import matplotlib.pyplot as plt"
   ]
  },
  {
   "cell_type": "code",
   "execution_count": 28,
   "id": "b0b4ebd1-f1dd-44a9-b845-67fa26e7288f",
   "metadata": {
    "tags": []
   },
   "outputs": [],
   "source": [
    "def sigmoid(z):\n",
    "    \"\"\"\n",
    "    Compute the sigmoid of z\n",
    "\n",
    "    Args:\n",
    "        z (ndarray): A scalar, numpy array of any size.\n",
    "\n",
    "    Returns:\n",
    "        g (ndarray): sigmoid(z), with the same shape as z\n",
    "         \n",
    "    \"\"\"\n",
    "\n",
    "    g = 1/(1+np.exp(-z))\n",
    "   \n",
    "    return g"
   ]
  },
  {
   "cell_type": "code",
   "execution_count": 29,
   "id": "e1c4e0eb-d1b1-4174-8bcf-c23e9c2a8987",
   "metadata": {
    "tags": []
   },
   "outputs": [
    {
     "name": "stdout",
     "output_type": "stream",
     "text": [
      "z = -1.000e+01, sigmoid(z) =  4.540e-05\n",
      "z = -9.000e+00, sigmoid(z) =  1.234e-04\n",
      "z = -8.000e+00, sigmoid(z) =  3.354e-04\n",
      "z = -7.000e+00, sigmoid(z) =  9.111e-04\n",
      "z = -6.000e+00, sigmoid(z) =  2.473e-03\n",
      "z = -5.000e+00, sigmoid(z) =  6.693e-03\n",
      "z = -4.000e+00, sigmoid(z) =  1.799e-02\n",
      "z = -3.000e+00, sigmoid(z) =  4.743e-02\n",
      "z = -2.000e+00, sigmoid(z) =  1.192e-01\n",
      "z = -1.000e+00, sigmoid(z) =  2.689e-01\n",
      "z =  0.000e+00, sigmoid(z) =  5.000e-01\n",
      "z =  1.000e+00, sigmoid(z) =  7.311e-01\n",
      "z =  2.000e+00, sigmoid(z) =  8.808e-01\n",
      "z =  3.000e+00, sigmoid(z) =  9.526e-01\n",
      "z =  4.000e+00, sigmoid(z) =  9.820e-01\n",
      "z =  5.000e+00, sigmoid(z) =  9.933e-01\n",
      "z =  6.000e+00, sigmoid(z) =  9.975e-01\n",
      "z =  7.000e+00, sigmoid(z) =  9.991e-01\n",
      "z =  8.000e+00, sigmoid(z) =  9.997e-01\n",
      "z =  9.000e+00, sigmoid(z) =  9.999e-01\n",
      "z =  1.000e+01, sigmoid(z) =  1.000e+00\n"
     ]
    }
   ],
   "source": [
    "# applying sigmoid function to an numpy array\n",
    "\n",
    "z_tmp = np.arange(-10,11)\n",
    "\n",
    "y = sigmoid(z_tmp)\n",
    "\n",
    "for i in range (z_tmp.shape[0]):\n",
    "    print(f\"z = {z_tmp[i] : 0.3e}, sigmoid(z) = {y[i] : 0.3e}\")"
   ]
  },
  {
   "cell_type": "code",
   "execution_count": 30,
   "id": "2fd7c1fb-166e-4f9d-91eb-7c4e28822b78",
   "metadata": {
    "tags": []
   },
   "outputs": [
    {
     "data": {
      "text/plain": [
       "Text(-50, 5, 'z < 0')"
      ]
     },
     "execution_count": 30,
     "metadata": {},
     "output_type": "execute_result"
    },
    {
     "data": {
      "image/png": "[encoded data removed]",
      "text/plain": [
       "<Figure size 1008x504 with 1 Axes>"
      ]
     },
     "metadata": {
      "needs_background": "light"
     },
     "output_type": "display_data"
    }
   ],
   "source": [
    "# plotting sigmoid function\n",
    "\n",
    "fig, ax = plt.subplots(1,1,figsize=(14,7))\n",
    "\n",
    "ax.plot(z_tmp, y, c='b')\n",
    "ax.set_title(\"Sigmoid function\")\n",
    "ax.set_ylabel(\"sigmoid(z)\")\n",
    "ax.set_xlabel(\"z\")\n",
    "\n",
    "ylim = ax.get_ylim()\n",
    "xlim = ax.get_xlim()\n",
    "\n",
    "z_threshold = 0\n",
    "ax.fill_between([xlim[0], z_threshold], [ylim[1], ylim[1]], alpha=0.2, color='blue')\n",
    "ax.fill_between([z_threshold, xlim[1]], [ylim[1], ylim[1]], alpha=0.2, color='red')\n",
    "\n",
    "ax.annotate(\"z >= 0\", xy= [z_threshold,0.5], xycoords='data', xytext=[30,5],textcoords='offset points')\n",
    "ax.annotate(\"z < 0\", xy= [z_threshold,0.5], xycoords='data', xytext=[-50,5],textcoords='offset points', ha='left')"
   ]
  },
  {
   "cell_type": "markdown",
   "id": "0c4e8949-a94a-4b6d-a769-18b75c5b50fd",
   "metadata": {},
   "source": [
    "### Logistic Regression\n",
    "\n",
    "![](img_lg_reg.JPG)"
   ]
  },
  {
   "cell_type": "code",
   "execution_count": null,
   "id": "afcec8aa-f3fd-496a-91ed-d47520621b59",
   "metadata": {},
   "outputs": [],
   "source": []
  }
 ],
 "metadata": {
  "kernelspec": {
   "display_name": "Python 3",
   "language": "python",
   "name": "python3"
  },
  "language_info": {
   "codemirror_mode": {
    "name": "ipython",
    "version": 3
   },
   "file_extension": ".py",
   "mimetype": "text/x-python",
   "name": "python",
   "nbconvert_exporter": "python",
   "pygments_lexer": "ipython3",
   "version": "3.8.3"
  }
 },
 "nbformat": 4,
 "nbformat_minor": 5
}
