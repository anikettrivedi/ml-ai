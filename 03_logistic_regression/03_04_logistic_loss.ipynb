{
 "cells": [
  {
   "cell_type": "markdown",
   "id": "8afa8dea-078e-4d28-944e-756c8ea879b4",
   "metadata": {},
   "source": [
    "# Logistic Regression, Logistic Loss\n",
    "\n",
    "- why squared error loss function is not suitable for logistic regression\n",
    "- introduction to logistic loss function"
   ]
  },
  {
   "cell_type": "markdown",
   "id": "e5cbd8fc-2698-4c72-9eb8-9fd5c2d4f36d",
   "metadata": {},
   "source": [
    "![](img_lg_req_sq_error_cost.JPG)\n",
    "![](img_lr_sq_er_cost.JPG)"
   ]
  },
  {
   "cell_type": "code",
   "execution_count": 1,
   "id": "8f0ffc7e-c760-4171-9239-bcc4c59b1533",
   "metadata": {
    "tags": []
   },
   "outputs": [],
   "source": [
    "import numpy as np\n",
    "import matplotlib.pyplot as plt"
   ]
  },
  {
   "cell_type": "code",
   "execution_count": 2,
   "id": "aefccc43-6825-4462-8d19-1167122391fe",
   "metadata": {
    "tags": []
   },
   "outputs": [],
   "source": [
    "x_train = np.array([0., 1, 2, 3, 4, 5],dtype=np.longdouble)\n",
    "y_train = np.array([0,  0, 0, 1, 1, 1],dtype=np.longdouble)"
   ]
  },
  {
   "cell_type": "code",
   "execution_count": 5,
   "id": "3c03d594-69b9-48ea-896d-38b4fcbb534b",
   "metadata": {
    "tags": []
   },
   "outputs": [
    {
     "data": {
      "image/png": "[encoded data removed]",
      "text/plain": [
       "<Figure size 432x288 with 1 Axes>"
      ]
     },
     "metadata": {
      "needs_background": "light"
     },
     "output_type": "display_data"
    }
   ],
   "source": [
    "# plotting above data\n",
    "\n",
    "pos = y_train == 1\n",
    "neg = y_train == 0\n",
    "\n",
    "fig, ax = plt.subplots(1, 1)\n",
    "\n",
    "ax.scatter(x_train[pos], y_train[pos], marker='x', s = 80, label=\"malignant\", c = 'red')\n",
    "ax.scatter(x_train[neg], y_train[neg], marker='o', s = 80, label=\"benign\", c = 'blue')\n",
    "\n",
    "ax.set_ylabel('y')\n",
    "ax.set_xlabel('x')\n",
    "ax.set_title('one variable plot')\n",
    "ax.legend()\n",
    "\n",
    "plt.show()"
   ]
  },
  {
   "cell_type": "markdown",
   "id": "37131e49-4195-4602-9b57-ee134626857c",
   "metadata": {},
   "source": [
    "### squared error cost\n",
    "\n",
    "![](img_08.JPG)"
   ]
  },
  {
   "cell_type": "code",
   "execution_count": null,
   "id": "28b5d108-54ae-41ca-ad2b-616b5f69bfc3",
   "metadata": {},
   "outputs": [],
   "source": []
  }
 ],
 "metadata": {
  "kernelspec": {
   "display_name": "Python 3",
   "language": "python",
   "name": "python3"
  },
  "language_info": {
   "codemirror_mode": {
    "name": "ipython",
    "version": 3
   },
   "file_extension": ".py",
   "mimetype": "text/x-python",
   "name": "python",
   "nbconvert_exporter": "python",
   "pygments_lexer": "ipython3",
   "version": "3.8.3"
  }
 },
 "nbformat": 4,
 "nbformat_minor": 5
}
