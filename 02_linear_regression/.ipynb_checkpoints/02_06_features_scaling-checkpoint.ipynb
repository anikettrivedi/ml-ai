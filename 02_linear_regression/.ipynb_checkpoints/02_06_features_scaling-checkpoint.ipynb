{
 "cells": [
  {
   "cell_type": "markdown",
   "id": "e0d27a70-1ae1-421b-8861-10a364aa8696",
   "metadata": {
    "tags": []
   },
   "source": [
    "### Feature Scaling (Multi-variable)\n",
    "\n",
    "1. [feature scaling](#section_1)"
   ]
  },
  {
   "cell_type": "markdown",
   "id": "4d2c2268-6ccf-45a7-b22a-33de4bb9fdc0",
   "metadata": {},
   "source": [
    "#### <a name=\"section_1\"></a> Feature Scaling"
   ]
  },
  {
   "cell_type": "code",
   "execution_count": 2,
   "id": "fe8d335c-21a6-4c93-95f6-90d4f4bae0bb",
   "metadata": {
    "tags": []
   },
   "outputs": [],
   "source": [
    "# imports\n",
    "import copy, math\n",
    "import numpy as np\n",
    "import matplotlib.pyplot as plt\n",
    "np.set_printoptions(precision=2)"
   ]
  },
  {
   "cell_type": "code",
   "execution_count": 6,
   "id": "37060aae-a41f-4c03-a06b-b22a5fdf7ac6",
   "metadata": {
    "tags": []
   },
   "outputs": [],
   "source": [
    "# loading data\n",
    "\n",
    "def load_house_data():\n",
    "    data = np.loadtxt(\"houses.txt\", delimiter=',', skiprows=1)\n",
    "    X = data[:,:4]\n",
    "    y = data[:,4]\n",
    "    return X, y\n",
    "\n",
    "X_train, y_train = load_house_data()\n",
    "\n",
    "# features\n",
    "X_features = [\"size(sqft)\", \"bedrooms\", \"floors\", \"age\"]"
   ]
  },
  {
   "cell_type": "code",
   "execution_count": 10,
   "id": "04d5b73e-e9fc-4127-8cba-b3274ee03095",
   "metadata": {
    "tags": []
   },
   "outputs": [],
   "source": [
    "# linear regression with multiple variables related functions\n",
    "\n",
    "def compute_cost(X, y, w, b):\n",
    "    m = X.shape[0]\n",
    "    cost = 0.0\n",
    "    for i in range(m):\n",
    "        f_wb_i = np.dot(w, X[i]) + b\n",
    "        cost = cost + (f_wb_i - y[i]) ** 2\n",
    "    cost = cost / (2 * m)\n",
    "    return cost\n",
    "\n",
    "def compute_gradient (X, y, w, b):\n",
    "    \"\"\"\n",
    "    Computes the gradient for linear regression \n",
    "    Args:\n",
    "      X (ndarray (m,n)): Data, m examples with n features\n",
    "      y (ndarray (m,)) : target values\n",
    "      w (ndarray (n,)) : model parameters  \n",
    "      b (scalar)       : model parameter\n",
    "      \n",
    "    Returns:\n",
    "      dj_dw (ndarray (n,)): The gradient of the cost w.r.t. the parameters w. \n",
    "      dj_db (scalar):       The gradient of the cost w.r.t. the parameter b. \n",
    "    \"\"\"\n",
    "    m, n = X.shape\n",
    "    dj_dw = np.zeros((n,))\n",
    "    dj_db = 0\n",
    "    \n",
    "    for i in range(m):\n",
    "        err = (np.dot(w, X[i]) + b) - y[i]\n",
    "        for j in range(n):\n",
    "            dj_dw[j] = dj_dw[j] + err * X[i,j]\n",
    "        dj_db = dj_db + err\n",
    "    \n",
    "    dj_dw = dj_dw/m\n",
    "    dj_db = dj_db/m\n",
    "    \n",
    "    return dj_db, dj_dw\n",
    "\n",
    "def gradient_descent(X, y, w_in, b_in, cost_function, gradient_function, alpha, num_iters):\n",
    "   \n",
    "    # An array to store cost J at each iteration primarily for graphing later\n",
    "    J_history = []\n",
    "    w0_hist = []\n",
    "    b_hist = []\n",
    "    \n",
    "    w = copy.deepcopy(w_in)\n",
    "    b = copy.deepcopy(b_in)\n",
    "    \n",
    "    print(f\"Iteration Cost          w0       w1       w2       w3       b       djdw0    djdw1    djdw2    djdw3    djdb  \")\n",
    "    print(f\"---------------------|--------|--------|--------|--------|--------|--------|--------|--------|--------|--------|\")\n",
    "    \n",
    "    for i in range (num_iters):\n",
    "        \n",
    "        # calculate gradients\n",
    "        dj_db, dj_dw = gradient_function (X, y, w, b)\n",
    "        \n",
    "        # update params using w, b, alpha & gradients\n",
    "        w = w - alpha * dj_dw\n",
    "        b = b - alpha * dj_db\n",
    "        \n",
    "        # save cost J at each iteration\n",
    "        if i < 100000:\n",
    "            J_history.append (cost_function(X, y, w, b))\n",
    "            w0_hist.append (w[0])\n",
    "            b_hist.append (b) \n",
    "            \n",
    "        if i% math.ceil(num_iters/10) == 0:\n",
    "            cst = J_history[i]\n",
    "            print(f\"{i:9d} {cst:0.5e} {w[0]: 0.1e} {w[1]: 0.1e} {w[2]: 0.1e} {w[3]: 0.1e} {b: 0.1e} {dj_dw[0]: 0.1e} {dj_dw[1]: 0.1e} {dj_dw[2]: 0.1e} {dj_dw[3]: 0.1e} {dj_db: 0.1e}\")     \n",
    "        \n",
    "    \n",
    "        \n",
    "    return w, b, J_history, w0_hist, b_hist\n",
    "\n",
    "# plotting cost vs iterations, cost vs w\n",
    "\n",
    "def plot_cost_iter_w(J_hist, w0_hist):\n",
    "    \n",
    "    fig, ax = plt.subplots(1, 2, figsize=(12,6))\n",
    "    \n",
    "    ax[0].plot(np.arange(0,len(J_hist), 1), J_hist)\n",
    "    ax[0].set_title(\"Cost vs Iteration\")\n",
    "    ax[0].set_ylabel(\"Cost\")\n",
    "    ax[0].set_xlabel(\"iteration\")\n",
    "    \n",
    "    \n",
    "    ax[1].scatter(w0_hist, J_hist)\n",
    "    ax[1].plot(w0_hist, J_hist)\n",
    "    ax[1].set_title(\"Cost vs w[0]\")\n",
    "    ax[1].set_ylabel(\"Cost\")\n",
    "    ax[1].set_xlabel(\"w[0]\")\n",
    "    "
   ]
  },
  {
   "cell_type": "markdown",
   "id": "a41fdd88-cc78-4bc9-a1ae-82d4113b5ce9",
   "metadata": {},
   "source": [
    "### without feature scaling\n",
    "\n",
    " - notice below that djdw0 is significantly larger than djdw1, djdw2, djdw3 & djdb (in absolute value)\n",
    " - if we run below scenario for larger number of iterations, eventually values of derivates will become similar in value & range\n",
    " - this is because input features do not belong to similar range to begin with\n",
    " - it is possible that we can scale the input features to a similar range, that will make the derivatives similar in values as well, this will help gradient descent to converge faster (in less number of iterations) and make the algorithm much faste\n",
    " \n",
    " ![](img_fs_intuition.JPG)\n",
    " \n",
    " ![](img_fs_obs.JPG)"
   ]
  },
  {
   "cell_type": "code",
   "execution_count": 12,
   "id": "e48bea8d-60cc-44d1-ae43-d1ca96d23670",
   "metadata": {
    "tags": []
   },
   "outputs": [
    {
     "name": "stdout",
     "output_type": "stream",
     "text": [
      "Iteration Cost          w0       w1       w2       w3       b       djdw0    djdw1    djdw2    djdw3    djdb  \n",
      "---------------------|--------|--------|--------|--------|--------|--------|--------|--------|--------|--------|\n",
      "        0 6.64616e+04  5.0e-01  9.1e-04  4.7e-04  1.1e-02  3.3e-04 -5.5e+05 -1.0e+03 -5.2e+02 -1.2e+04 -3.6e+02\n",
      "        1 6.18990e+04  1.8e-02  2.1e-05  2.0e-06 -7.9e-04  1.9e-05  5.3e+05  9.8e+02  5.2e+02  1.3e+04  3.4e+02\n",
      "        2 5.76572e+04  4.8e-01  8.6e-04  4.4e-04  9.5e-03  3.2e-04 -5.1e+05 -9.3e+02 -4.8e+02 -1.1e+04 -3.4e+02\n",
      "        3 5.37137e+04  3.4e-02  3.9e-05  2.8e-06 -1.6e-03  3.8e-05  4.9e+05  9.1e+02  4.8e+02  1.2e+04  3.2e+02\n",
      "        4 5.00474e+04  4.6e-01  8.2e-04  4.1e-04  8.0e-03  3.2e-04 -4.8e+05 -8.7e+02 -4.5e+02 -1.1e+04 -3.1e+02\n",
      "        5 4.66388e+04  5.0e-02  5.6e-05  2.5e-06 -2.4e-03  5.6e-05  4.6e+05  8.5e+02  4.5e+02  1.2e+04  2.9e+02\n",
      "        6 4.34700e+04  4.5e-01  7.8e-04  3.8e-04  6.4e-03  3.2e-04 -4.4e+05 -8.1e+02 -4.2e+02 -9.8e+03 -2.9e+02\n",
      "        7 4.05239e+04  6.4e-02  7.0e-05  1.2e-06 -3.3e-03  7.3e-05  4.3e+05  7.9e+02  4.2e+02  1.1e+04  2.7e+02\n",
      "        8 3.77849e+04  4.4e-01  7.5e-04  3.5e-04  4.9e-03  3.2e-04 -4.1e+05 -7.5e+02 -3.9e+02 -9.1e+03 -2.7e+02\n",
      "        9 3.52385e+04  7.7e-02  8.3e-05 -1.1e-06 -4.2e-03  8.9e-05  4.0e+05  7.4e+02  3.9e+02  1.0e+04  2.5e+02\n"
     ]
    },
    {
     "data": {
      "image/png": "[encoded data removed]",
      "text/plain": [
       "<Figure size 864x432 with 2 Axes>"
      ]
     },
     "metadata": {
      "needs_background": "light"
     },
     "output_type": "display_data"
    }
   ],
   "source": [
    "w_init = np.zeros(X_train.shape[1])\n",
    "b_init = 0\n",
    "iterations = 10\n",
    "\n",
    "# setting alpha to 9e-7\n",
    "alpha = 9e-7\n",
    "\n",
    "w_final, b_final ,J_hist, w0_hist, b_hist = gradient_descent(X_train, y_train, w_init, b_init, compute_cost, compute_gradient, alpha, iterations)\n",
    "\n",
    "plot_cost_iter_w(J_hist, w0_hist)"
   ]
  },
  {
   "cell_type": "markdown",
   "id": "f84899d6-4126-4fdf-ab67-775770568056",
   "metadata": {},
   "source": [
    "### feature scaling techniques\n",
    "\n",
    "![](img_fs_tecqs.JPG)\n",
    "\n",
    "![](img_fs_zscore_norm.JPG)"
   ]
  },
  {
   "cell_type": "code",
   "execution_count": 13,
   "id": "45bcc624-9a3d-431e-8b5f-210724fc7b5e",
   "metadata": {
    "tags": []
   },
   "outputs": [],
   "source": [
    "def zscore_normalize_features(X):\n",
    "    \"\"\"\n",
    "    computes  X, zcore normalized by column\n",
    "    \n",
    "    Args:\n",
    "      X (ndarray (m,n))     : input data, m examples, n features\n",
    "      \n",
    "    Returns:\n",
    "      X_norm (ndarray (m,n)): input normalized by column\n",
    "      mu (ndarray (n,))     : mean of each feature\n",
    "      sigma (ndarray (n,))  : standard deviation of each feature\n",
    "    \"\"\"\n",
    "    \n",
    "    # mean\n",
    "    mu = np.mean(X, axis=0)\n",
    "    \n",
    "    # standard deviation\n",
    "    sigma = np.std(X, axis=0)\n",
    "    \n",
    "    X_norm = (X - mu)/sigma\n",
    "    \n",
    "    return (X_norm, mu, sigma)"
   ]
  },
  {
   "cell_type": "code",
   "execution_count": 14,
   "id": "7f9e4ab7-56f9-46a3-b2e9-632feeeaebeb",
   "metadata": {
    "tags": []
   },
   "outputs": [
    {
     "data": {
      "image/png": "[encoded data removed]",
      "text/plain": [
       "<Figure size 864x216 with 3 Axes>"
      ]
     },
     "metadata": {
      "needs_background": "light"
     },
     "output_type": "display_data"
    }
   ],
   "source": [
    "# visualizing data after z-score normalization\n",
    "\n",
    "mu = np.mean(X_train, axis=0)\n",
    "sigma = np.std(X_train, axis=0)\n",
    "X_mean = (X_train - mu)\n",
    "X_norm = (X_train - mu) / sigma\n",
    "\n",
    "fig,ax=plt.subplots(1, 3, figsize=(12, 3))\n",
    "ax[0].scatter(X_train[:,0], X_train[:,3])\n",
    "ax[0].set_xlabel(X_features[0]); ax[0].set_ylabel(X_features[3]);\n",
    "ax[0].set_title(\"unnormalized\")\n",
    "ax[0].axis('equal')\n",
    "\n",
    "ax[1].scatter(X_mean[:,0], X_mean[:,3])\n",
    "ax[1].set_xlabel(X_features[0]); ax[0].set_ylabel(X_features[3]);\n",
    "ax[1].set_title(r\"X - $\\mu$\")\n",
    "ax[1].axis('equal')\n",
    "\n",
    "ax[2].scatter(X_norm[:,0], X_norm[:,3])\n",
    "ax[2].set_xlabel(X_features[0]); ax[0].set_ylabel(X_features[3]);\n",
    "ax[2].set_title(r\"Z-score normalized\")\n",
    "ax[2].axis('equal')\n",
    "plt.tight_layout(rect=[0, 0.03, 1, 0.95])\n",
    "fig.suptitle(\"distribution of features before, during, after normalization\")\n",
    "plt.show()"
   ]
  },
  {
   "cell_type": "markdown",
   "id": "a3ad0b4a-b807-4380-87c2-37b78373b049",
   "metadata": {},
   "source": [
    "### observations\n",
    "\n",
    "![](img_fs_norm_visual.JPG)"
   ]
  },
  {
   "cell_type": "code",
   "execution_count": 17,
   "id": "8c9fdbf0-34a4-4642-8095-725b99843815",
   "metadata": {
    "tags": []
   },
   "outputs": [
    {
     "name": "stdout",
     "output_type": "stream",
     "text": [
      "X_mu (mean) = [1.42e+03 2.72e+00 1.38e+00 3.84e+01], \n",
      "X_sigma (standard deviation) = [411.62   0.65   0.49  25.78]\n",
      "Peak to Peak range by column in Raw        X:[2.41e+03 4.00e+00 1.00e+00 9.50e+01]\n",
      "Peak to Peak range by column in Normalized X:[5.85 6.14 2.06 3.69]\n"
     ]
    }
   ],
   "source": [
    "# normalizing all original input features\n",
    "\n",
    "X_norm, X_mu, X_sigma = zscore_normalize_features(X_train)\n",
    "\n",
    "print(f\"X_mu (mean) = {X_mu}, \\nX_sigma (standard deviation) = {X_sigma}\")\n",
    "print(f\"Peak to Peak range by column in Raw        X:{np.ptp(X_train,axis=0)}\")   \n",
    "print(f\"Peak to Peak range by column in Normalized X:{np.ptp(X_norm,axis=0)}\")"
   ]
  },
  {
   "cell_type": "markdown",
   "id": "5846a779-ce22-443e-80e6-9ddcd06f34bc",
   "metadata": {},
   "source": [
    "### observations\n",
    "\n",
    " - note that peak to peak values are much closer in the case of normalized features (reduced from factor of 1000s to 2-3)\n"
   ]
  },
  {
   "cell_type": "code",
   "execution_count": 19,
   "id": "2316dac3-e7cf-4d7e-b22a-a242f0a513f8",
   "metadata": {
    "tags": []
   },
   "outputs": [],
   "source": [
    "# visualizing all features before & after normalization\n",
    "\n",
    "## todo"
   ]
  },
  {
   "cell_type": "code",
   "execution_count": null,
   "id": "653a697a-6277-4c23-acb0-b80a1933f12b",
   "metadata": {},
   "outputs": [],
   "source": []
  }
 ],
 "metadata": {
  "kernelspec": {
   "display_name": "Python 3",
   "language": "python",
   "name": "python3"
  },
  "language_info": {
   "codemirror_mode": {
    "name": "ipython",
    "version": 3
   },
   "file_extension": ".py",
   "mimetype": "text/x-python",
   "name": "python",
   "nbconvert_exporter": "python",
   "pygments_lexer": "ipython3",
   "version": "3.8.3"
  }
 },
 "nbformat": 4,
 "nbformat_minor": 5
}
