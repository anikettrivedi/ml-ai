{
 "cells": [
  {
   "cell_type": "markdown",
   "id": "98ff8f94-97de-4991-82b6-ec214cf759b5",
   "metadata": {},
   "source": [
    "### gradient descent for linear regression\n",
    "\n",
    "![alt text](img_gd_lr.JPG)\n",
    "\n",
    "### problem statement\n",
    "\n",
    "![image.png](img_gd_ps.JPG)"
   ]
  },
  {
   "cell_type": "code",
   "execution_count": 1,
   "id": "3676861a-3ac3-4464-aeb3-64bb4b5b70f0",
   "metadata": {
    "tags": []
   },
   "outputs": [],
   "source": [
    "# imports\n",
    "\n",
    "import math, copy\n",
    "import numpy as np\n",
    "import matplotlib.pyplot as plt"
   ]
  },
  {
   "cell_type": "code",
   "execution_count": 2,
   "id": "7d9bff3c-a823-4e4c-8285-1321326f2fe2",
   "metadata": {
    "tags": []
   },
   "outputs": [],
   "source": [
    "# linear regression functions\n",
    "\n",
    "# function to compute cost\n",
    "def compute_cost(x, y, w, b):\n",
    "    \n",
    "    m = x.shape[0]\n",
    "    cost_sum = 0\n",
    "    \n",
    "    for i in range(m):\n",
    "        f_wb = w * x[i] + b\n",
    "        cost = (y[i] - f_wb) ** 2\n",
    "        cost_sum = cost_sum + cost\n",
    "        \n",
    "    total_cost = (1/(2*m)) * cost_sum\n",
    "    \n",
    "    return total_cost\n",
    "\n",
    "# compute function for linear regression model output\n",
    "def compute_model_output(x, w, b):\n",
    "    m = x.shape[0]\n",
    "    f_wb = np.zeros(m)\n",
    "    for i in range(m):\n",
    "        f_wb[i] = w * x[i] + b \n",
    "    return f_wb"
   ]
  },
  {
   "cell_type": "markdown",
   "id": "71864ee8-34a2-4cb0-9809-a1cda6594282",
   "metadata": {},
   "source": [
    "### gradient descent summary\n",
    "\n",
    "![image.png](img_gd_formula.JPG)\n",
    "\n",
    "### gradient descent impl\n",
    "\n",
    "![image.png](img_gd_impl.JPG)"
   ]
  },
  {
   "cell_type": "code",
   "execution_count": 7,
   "id": "d285aa14-dc54-4d1b-adb0-2de7fa68519c",
   "metadata": {
    "tags": []
   },
   "outputs": [],
   "source": [
    "# computing gradient\n",
    "\n",
    "def compute_gradient (x, y, w, b):\n",
    "    \n",
    "    # m -> number of training examples\n",
    "    m = x.shape[0]\n",
    "    dj_dw = 0\n",
    "    dj_db = 0\n",
    "    \n",
    "    for i in range(m):\n",
    "       f_wb =  w * x[i] + b\n",
    "       dj_dw_i = (f_wb - y [i]) * x[i]\n",
    "       dj_db_i = f_wb - y [i]\n",
    "       \n",
    "       dj_dw += dj_dw_i\n",
    "       dj_db += dj_db_i\n",
    "    \n",
    "    dj_dw = (1/m) * dj_dw\n",
    "    dj_db = (1/m) * dj_db\n",
    "    \n",
    "    return dj_dw, dj_db"
   ]
  },
  {
   "cell_type": "code",
   "execution_count": 28,
   "id": "001769b5-cd69-40c1-9e41-d9807a51c3c6",
   "metadata": {
    "tags": []
   },
   "outputs": [],
   "source": [
    "# gradient descent function\n",
    "\n",
    "def gradient_descent (x, y, w_in, b_in, alpha, num_iters, cost_function, gradient_function):\n",
    "    \n",
    "    \"\"\"\n",
    "    Performs gradient descent to fit w,b. Updates w,b by taking \n",
    "    num_iters gradient steps with learning rate alpha\n",
    "    \n",
    "    Args:\n",
    "      x (ndarray (m,))  : Data, m examples \n",
    "      y (ndarray (m,))  : target values\n",
    "      w_in,b_in (scalar): initial values of model parameters  \n",
    "      alpha (float):     Learning rate\n",
    "      num_iters (int):   number of iterations to run gradient descent\n",
    "      cost_function:     function to call to produce cost\n",
    "      gradient_function: function to call to produce gradient\n",
    "      \n",
    "    Returns:\n",
    "      w (scalar): Updated value of parameter after running gradient descent\n",
    "      b (scalar): Updated value of parameter after running gradient descent\n",
    "      J_history (List): History of cost values\n",
    "      w_history (list): History of parameter w\n",
    "      b_history (list): History of parameter b\n",
    "      \"\"\"\n",
    "    \n",
    "    # deep copy to avoid modifying global values of w, b\n",
    "    w = copy.deepcopy(w_in)\n",
    "    b = copy.deepcopy(b_in)\n",
    "    \n",
    "    J_history = []\n",
    "    w_history = []\n",
    "    b_history = []\n",
    "\n",
    "    \n",
    "    for i in range(num_iters):\n",
    "        \n",
    "        # Calculate the gradient and update the parameters using gradient_function\n",
    "        dj_dw, dj_db = gradient_function (x, y, w, b)\n",
    "        \n",
    "        # Update Parameters using equation (3) above\n",
    "        w = w - alpha * dj_dw\n",
    "        b = b - alpha * dj_db\n",
    "        \n",
    "        # save history for first 100000 iterations\n",
    "        if i < 100000:\n",
    "            J_history.append(cost_function(x, y, w, b))\n",
    "            w_history.append(w)\n",
    "            b_history.append(b)\n",
    "        \n",
    "        # Print cost at every interval of numb_iters/10\n",
    "        if i% math.ceil(num_iters/10) == 0:\n",
    "            print(f\"Iteration {i:4}: Cost {J_history[-1]:0.2e} \",\n",
    "                  f\"dj_dw: {dj_dw: 0.3e}, dj_db: {dj_db: 0.3e}  \",\n",
    "                  f\"w: {w: 0.3e}, b:{b: 0.5e}\")\n",
    "        \n",
    "    return w, b, J_history, w_history, b_history"
   ]
  },
  {
   "cell_type": "code",
   "execution_count": 30,
   "id": "bc0a18c7-8175-4b82-b2fd-4a49fc77c635",
   "metadata": {
    "tags": []
   },
   "outputs": [
    {
     "name": "stdout",
     "output_type": "stream",
     "text": [
      "Iteration    0: Cost 1.09e+05  dj_dw: -1.170e+03, dj_db: -4.700e+02   w:  1.170e+01, b: 4.70000e+00\n",
      "Iteration 1000: Cost 1.78e+03  dj_dw: -1.060e+00, dj_db:  2.599e+00   w:  1.974e+02, b: 3.16325e+01\n",
      "Iteration 2000: Cost 1.74e+03  dj_dw: -4.357e-01, dj_db:  1.068e+00   w:  2.045e+02, b: 1.44256e+01\n",
      "Iteration 3000: Cost 1.74e+03  dj_dw: -1.790e-01, dj_db:  4.388e-01   w:  2.074e+02, b: 7.35495e+00\n",
      "Iteration 4000: Cost 1.74e+03  dj_dw: -7.357e-02, dj_db:  1.803e-01   w:  2.085e+02, b: 4.44950e+00\n",
      "Iteration 5000: Cost 1.74e+03  dj_dw: -3.023e-02, dj_db:  7.410e-02   w:  2.090e+02, b: 3.25559e+00\n",
      "Iteration 6000: Cost 1.74e+03  dj_dw: -1.242e-02, dj_db:  3.045e-02   w:  2.092e+02, b: 2.76500e+00\n",
      "Iteration 7000: Cost 1.74e+03  dj_dw: -5.104e-03, dj_db:  1.251e-02   w:  2.093e+02, b: 2.56340e+00\n",
      "Iteration 8000: Cost 1.74e+03  dj_dw: -2.097e-03, dj_db:  5.141e-03   w:  2.093e+02, b: 2.48056e+00\n",
      "Iteration 9000: Cost 1.74e+03  dj_dw: -8.619e-04, dj_db:  2.113e-03   w:  2.094e+02, b: 2.44652e+00\n",
      "(w,b) found by gradient descent: (209.3590,  2.4325)\n"
     ]
    }
   ],
   "source": [
    "# running gradient descent\n",
    "\n",
    "x_train = np.array([1.0, 1.7, 2.0, 2.5, 3.0, 3.2])\n",
    "y_train = np.array([250, 300, 480,  430,   630, 730])\n",
    "\n",
    "w_init = 0\n",
    "b_init = 0\n",
    "\n",
    "iterations = 10000\n",
    "alpha_tmp = 1.0e-2\n",
    "\n",
    "w_final, b_final, J_hist, w_hist, b_hist = gradient_descent(x_train, y_train, w_init, b_init, alpha_tmp, iterations, compute_cost, compute_gradient)\n",
    "\n",
    "print(f\"(w,b) found by gradient descent: ({w_final:8.4f},{b_final:8.4f})\")\n",
    "\n"
   ]
  },
  {
   "cell_type": "code",
   "execution_count": 45,
   "id": "e779d3c1-1659-4a49-950d-61b1328fca64",
   "metadata": {
    "tags": []
   },
   "outputs": [
    {
     "data": {
      "image/png": "[encoded data removed]",
      "text/plain": [
       "<Figure size 432x288 with 1 Axes>"
      ]
     },
     "metadata": {
      "needs_background": "light"
     },
     "output_type": "display_data"
    }
   ],
   "source": [
    "# plotting cost vs w\n",
    "\n",
    "plt.scatter (w_hist, J_hist, s = 5)\n",
    "plt.title(\"cost vs w\")\n",
    "plt.xlabel(\"w\")\n",
    "plt.ylabel(\"cost\")\n",
    "plt.show()"
   ]
  },
  {
   "cell_type": "code",
   "execution_count": 54,
   "id": "da133138-2a0c-4bdd-811b-da1a64810be8",
   "metadata": {
    "tags": []
   },
   "outputs": [
    {
     "data": {
      "image/png": "[encoded data removed]",
      "text/plain": [
       "<Figure size 432x288 with 1 Axes>"
      ]
     },
     "metadata": {
      "needs_background": "light"
     },
     "output_type": "display_data"
    }
   ],
   "source": [
    "# plotting cost vs b\n",
    "plt.clf()\n",
    "plt.scatter (b_hist, J_hist)\n",
    "plt.title(\"cost vs b\")\n",
    "plt.xlabel(\"b\")\n",
    "plt.ylabel(\"cost\")\n",
    "plt.show()"
   ]
  },
  {
   "cell_type": "markdown",
   "id": "5ad5a22d-89f9-4bc8-90b2-3239ba200359",
   "metadata": {},
   "source": [
    "### observations\n",
    "\n",
    "    w vs cost \n",
    "    - cost gradually minimizes as we approach optimal w\n",
    "    \n",
    "    b vs cost\n",
    "    - we see we have 2 different values costs for the same b, this is because we are updating w simultaneously as well\n",
    "    - initially b & w are both 0, and cost is high\n",
    "    - over multiple iterations w & b gets adjusted such that b gradually increases along with changes in w and costs starts decreasing\n",
    "    - after a point cost reaches minimum & w is changing such that value of b stops affecting the cost and b starts decreasing to a value of around 2.4\n",
    "    - this means we can choose some other near optimal w for a much higher b and cost would stay near minimum\n",
    "        "
   ]
  },
  {
   "cell_type": "code",
   "execution_count": 55,
   "id": "4f6b4cab-8f28-4638-aebf-de76c1f69f17",
   "metadata": {
    "tags": []
   },
   "outputs": [
    {
     "data": {
      "image/png": "[encoded data removed]",
      "text/plain": [
       "<Figure size 432x288 with 1 Axes>"
      ]
     },
     "metadata": {
      "needs_background": "light"
     },
     "output_type": "display_data"
    }
   ],
   "source": [
    "# plotting number of cost vs iterations\n",
    "\n",
    "plt.scatter (range(iterations), J_hist)\n",
    "plt.title(\"cost vs iterations\")\n",
    "plt.xlabel(\"# of iterations\")\n",
    "plt.ylabel(\"cost\")\n",
    "plt.show()"
   ]
  },
  {
   "cell_type": "code",
   "execution_count": null,
   "id": "9514d869-fb1e-482b-8039-b9208fd56570",
   "metadata": {},
   "outputs": [],
   "source": []
  }
 ],
 "metadata": {
  "kernelspec": {
   "display_name": "Python 3",
   "language": "python",
   "name": "python3"
  },
  "language_info": {
   "codemirror_mode": {
    "name": "ipython",
    "version": 3
   },
   "file_extension": ".py",
   "mimetype": "text/x-python",
   "name": "python",
   "nbconvert_exporter": "python",
   "pygments_lexer": "ipython3",
   "version": "3.8.3"
  }
 },
 "nbformat": 4,
 "nbformat_minor": 5
}
