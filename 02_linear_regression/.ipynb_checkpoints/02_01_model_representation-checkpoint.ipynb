{
 "cells": [
  {
   "cell_type": "code",
   "execution_count": 3,
   "id": "c0ffbf0e-5b0d-41f1-81fc-67a5f7b82a56",
   "metadata": {
    "tags": []
   },
   "outputs": [],
   "source": [
    "# imports\n",
    "\n",
    "import numpy as np\n",
    "import matplotlib.pyplot as plt"
   ]
  },
  {
   "cell_type": "markdown",
   "id": "23de6300-04db-4fd7-80b3-6c44f0d6a43f",
   "metadata": {
    "tags": []
   },
   "source": [
    "### linear regression model\n",
    "\n",
    "![alt_text](img_linear_regression_model.JPG)\n",
    "\n",
    "### model notations\n",
    "\n",
    "![alt_text](img_model_notations.JPG)\n",
    "\n",
    "### problem statement\n",
    "\n",
    "![alt_text](img_prob_stmt.JPG)\n"
   ]
  },
  {
   "cell_type": "markdown",
   "id": "e742205a-8f2a-4e5c-8581-117069a562fb",
   "metadata": {},
   "source": [
    "## goal\n",
    "\n",
    "For the sake of simplicity, we aim to predict housing prices using only 1 variable, also we will not iterate over different values of w, b to find the best fit here.\n",
    "\n",
    "    x -> area in 1000 square foot\n",
    "    y -> price of the house in 1000s of $s\n",
    "    m -> number of training examples\n",
    "    x_i, y_i -> ith training example\n",
    "    w -> parameter (weight)\n",
    "    b -> parameter (bias)"
   ]
  },
  {
   "cell_type": "code",
   "execution_count": 3,
   "id": "888ae639-6019-4274-bef7-df061c006dee",
   "metadata": {
    "tags": []
   },
   "outputs": [
    {
     "name": "stdout",
     "output_type": "stream",
     "text": [
      "x_train = [1. 2.]\n",
      "y_train = [300. 500.]\n",
      "x_train.shape: (2,)\n",
      "Number of training examples is: 2\n"
     ]
    }
   ],
   "source": [
    "x_train = np.array([1.0, 2.0])\n",
    "y_train = np.array([300.0, 500.0])\n",
    "print(f\"x_train = {x_train}\")\n",
    "print(f\"y_train = {y_train}\")\n",
    "\n",
    "print(f\"x_train.shape: {x_train.shape}\")\n",
    "m = x_train.shape[0]\n",
    "print(f\"Number of training examples is: {m}\")"
   ]
  },
  {
   "cell_type": "code",
   "execution_count": 4,
   "id": "fdc5706c-6d9a-4760-80db-60977c2ff795",
   "metadata": {
    "tags": []
   },
   "outputs": [
    {
     "name": "stdout",
     "output_type": "stream",
     "text": [
      "(x^(0), y^(0)) = (1.0, 300.0)\n"
     ]
    }
   ],
   "source": [
    "i = 0 # Change this to 1 to see (x^1, y^1)\n",
    "\n",
    "x_i = x_train[i]\n",
    "y_i = y_train[i]\n",
    "print(f\"(x^({i}), y^({i})) = ({x_i}, {y_i})\")"
   ]
  },
  {
   "cell_type": "code",
   "execution_count": 5,
   "id": "86c31d4b-4dea-434e-9bdf-1b23177bcabf",
   "metadata": {
    "tags": []
   },
   "outputs": [
    {
     "data": {
      "image/png": "[encoded data removed]",
      "text/plain": [
       "<Figure size 432x288 with 1 Axes>"
      ]
     },
     "metadata": {
      "needs_background": "light"
     },
     "output_type": "display_data"
    }
   ],
   "source": [
    "# plotting the data\n",
    "plt.scatter(x_train, y_train, marker='x', c='r')\n",
    "plt.title('housing prices')\n",
    "plt.ylabel('Price (in 1000s of dollars)')\n",
    "plt.xlabel('Size (1000 sqft)')\n",
    "plt.show()"
   ]
  },
  {
   "cell_type": "code",
   "execution_count": 6,
   "id": "9ea0466f-6e1e-468c-bcc9-6028a8d16740",
   "metadata": {
    "tags": []
   },
   "outputs": [
    {
     "name": "stdout",
     "output_type": "stream",
     "text": [
      "w: 100\n",
      "b: 100\n"
     ]
    }
   ],
   "source": [
    "w = 100\n",
    "b = 100\n",
    "print(f\"w: {w}\")\n",
    "print(f\"b: {b}\")"
   ]
  },
  {
   "cell_type": "code",
   "execution_count": 7,
   "id": "dd006561-85f8-4c95-b9bb-797f76617daf",
   "metadata": {
    "tags": []
   },
   "outputs": [],
   "source": [
    "# compute function for linear regression model output\n",
    "def compute_model_output(x, w, b):\n",
    "    m = x.shape[0]\n",
    "    f_wb = np.zeros(m)\n",
    "    for i in range(m):\n",
    "        f_wb[i] = w * x[i] + b \n",
    "    return f_wb"
   ]
  },
  {
   "cell_type": "code",
   "execution_count": 8,
   "id": "4dcd1450-3afd-48f2-90cb-5f2b36394ba6",
   "metadata": {
    "tags": []
   },
   "outputs": [
    {
     "data": {
      "image/png": "[encoded data removed]",
      "text/plain": [
       "<Figure size 432x288 with 1 Axes>"
      ]
     },
     "metadata": {
      "needs_background": "light"
     },
     "output_type": "display_data"
    }
   ],
   "source": [
    "# calling compute function and plotting the result\n",
    "\n",
    "tmp_f_wb = compute_model_output(x_train, w, b)\n",
    "\n",
    "# plotting model prediction\n",
    "plt.plot(x_train, tmp_f_wb, c='b', label='our prediction')\n",
    "\n",
    "# plotting original training data\n",
    "plt.scatter(x_train, y_train, marker='x', c='r',label='Actual Values')\n",
    "\n",
    "plt.title('housing prices')\n",
    "plt.ylabel('Price (in 1000s of dollars)')\n",
    "plt.xlabel('Size (1000 sqft)')\n",
    "\n",
    "plt.legend()\n",
    "plt.show()"
   ]
  },
  {
   "cell_type": "code",
   "execution_count": 9,
   "id": "182a17db-a3a5-433c-9ce0-161969563b04",
   "metadata": {
    "tags": []
   },
   "outputs": [
    {
     "name": "stdout",
     "output_type": "stream",
     "text": [
      "$340 thousand dollars\n"
     ]
    }
   ],
   "source": [
    "# predicting using our trained model\n",
    "\n",
    "w = 200                         \n",
    "b = 100    \n",
    "x_i = 1.2\n",
    "cost_1200sqft = w * x_i + b    \n",
    "\n",
    "print(f\"${cost_1200sqft:.0f} thousand dollars\")"
   ]
  },
  {
   "cell_type": "code",
   "execution_count": null,
   "id": "ec59e341-e49c-4900-acfc-423a77d2816c",
   "metadata": {},
   "outputs": [],
   "source": []
  }
 ],
 "metadata": {
  "kernelspec": {
   "display_name": "Python 3",
   "language": "python",
   "name": "python3"
  },
  "language_info": {
   "codemirror_mode": {
    "name": "ipython",
    "version": 3
   },
   "file_extension": ".py",
   "mimetype": "text/x-python",
   "name": "python",
   "nbconvert_exporter": "python",
   "pygments_lexer": "ipython3",
   "version": "3.8.3"
  }
 },
 "nbformat": 4,
 "nbformat_minor": 5
}
