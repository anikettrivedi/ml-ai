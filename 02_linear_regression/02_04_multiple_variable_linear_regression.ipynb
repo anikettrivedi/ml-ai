{
 "cells": [
  {
   "cell_type": "markdown",
   "id": "219fa630-8150-4be7-8f82-a89944256343",
   "metadata": {},
   "source": [
    "### Outline\n",
    "\n",
    "1. [Goals & Notations](#section_1)\n",
    "2. [Problem Statement](#section_2)\n",
    "3. [Model Prediction With Multiple Variable](#section_3)\n",
    "4. [Compute Cost With Multiple Variable](#section_4)\n",
    "5. [Gradient Descent With Multiple Variable](#section_5)"
   ]
  },
  {
   "cell_type": "markdown",
   "id": "d840dfaa-ba9b-42c0-82a1-2d12e63307b8",
   "metadata": {
    "tags": []
   },
   "source": [
    "#### <a name=\"section_1\"></a> Goals & Notations\n",
    "\n",
    "#### Goals\n",
    "\n",
    "Extend our regression model routines to support multiple features\n",
    "\n",
    " - Extend data structures to support multiple features\n",
    " - Rewrite prediction, cost and gradient routines to support multiple features\n",
    " - Utilize NumPy np.dot to vectorize their implementations for speed and simplicity\n",
    "\n",
    "#### Notations\n",
    "\n",
    "![Notations](./img_mv_notations.JPG)"
   ]
  },
  {
   "cell_type": "code",
   "execution_count": 3,
   "id": "5774daa9-0997-4a34-acf9-602ef06c5af7",
   "metadata": {
    "tags": []
   },
   "outputs": [],
   "source": [
    "# imports\n",
    "\n",
    "import copy, math\n",
    "import numpy as np\n",
    "import matplotlib.pyplot as plt\n",
    "np.set_printoptions(precision=2)  # reduced display precision on numpy arrays"
   ]
  },
  {
   "cell_type": "markdown",
   "id": "e407053d-5d2c-46b5-80a2-1575b10c6437",
   "metadata": {
    "tags": []
   },
   "source": [
    "#### <a name=\"section_2\"></a> Problem Statement\n",
    "\n",
    "![problem statement](./img_prob_stmt_mv_lr.JPG)"
   ]
  },
  {
   "cell_type": "code",
   "execution_count": 4,
   "id": "d38a093e-e2aa-4f23-9c54-0501202890c2",
   "metadata": {
    "tags": []
   },
   "outputs": [],
   "source": [
    "X_train = np.array([[2104, 5, 1, 45], [1416, 3, 2, 40], [852, 2, 1, 35]])\n",
    "y_train = np.array([460, 232, 178])"
   ]
  },
  {
   "cell_type": "markdown",
   "id": "f15d280a-9298-4964-b267-2c295b09f8c1",
   "metadata": {},
   "source": [
    "#### Input & Output Data Matrices\n",
    "\n",
    "![](./img_mv_rep.JPG)"
   ]
  },
  {
   "cell_type": "code",
   "execution_count": 5,
   "id": "c8ea05d1-de2f-4b4f-b035-419588b020cf",
   "metadata": {
    "tags": []
   },
   "outputs": [
    {
     "name": "stdout",
     "output_type": "stream",
     "text": [
      "X Shape: (3, 4), X Type:<class 'numpy.ndarray'>)\n",
      "[[2104    5    1   45]\n",
      " [1416    3    2   40]\n",
      " [ 852    2    1   35]]\n",
      "y Shape: (3,), y Type:<class 'numpy.ndarray'>)\n",
      "[460 232 178]\n"
     ]
    }
   ],
   "source": [
    "# data is stored in numpy array/matrix\n",
    "print(f\"X Shape: {X_train.shape}, X Type:{type(X_train)})\")\n",
    "print(X_train)\n",
    "print(f\"y Shape: {y_train.shape}, y Type:{type(y_train)})\")\n",
    "print(y_train)"
   ]
  },
  {
   "cell_type": "markdown",
   "id": "189abdc6-d436-44c2-bc8e-088420848ec8",
   "metadata": {},
   "source": [
    "#### Model Parameters\n",
    "\n",
    "![](./img_mv_params.JPG)"
   ]
  },
  {
   "cell_type": "code",
   "execution_count": 7,
   "id": "46307f54-fa60-4cc0-be90-f1b84b5023fd",
   "metadata": {
    "tags": []
   },
   "outputs": [
    {
     "name": "stdout",
     "output_type": "stream",
     "text": [
      "w_init shape: (4,), b_init type: <class 'float'>\n"
     ]
    }
   ],
   "source": [
    "b_init = 785.1811367994083\n",
    "w_init = np.array([ 0.39133535, 18.75376741, -53.36032453, -26.42131618])\n",
    "print(f\"w_init shape: {w_init.shape}, b_init type: {type(b_init)}\")"
   ]
  },
  {
   "cell_type": "markdown",
   "id": "5244bc49-2674-4d2d-b40a-a71510422d09",
   "metadata": {},
   "source": [
    "#### <a name=\"section_3\"></a> Model Prediction With Multiple Variable\n",
    "\n",
    "![](./img_mv_reg_model.JPG)\n",
    "\n",
    "Note:\n",
    " - note that np.dot is much faster than loop approach as numpy uses parallel computing in the background"
   ]
  },
  {
   "cell_type": "code",
   "execution_count": 8,
   "id": "bf3308f3-d4ae-42d1-a9d6-122e0ca71605",
   "metadata": {
    "tags": []
   },
   "outputs": [
    {
     "name": "stdout",
     "output_type": "stream",
     "text": [
      "w_init shape: (4,), b_init type: <class 'float'>\n"
     ]
    }
   ],
   "source": [
    "# for demonstrations purpose let\n",
    "b_init = 785.1811367994083\n",
    "w_init = np.array([ 0.39133535, 18.75376741, -53.36032453, -26.42131618])\n",
    "print(f\"w_init shape: {w_init.shape}, b_init type: {type(b_init)}\")"
   ]
  },
  {
   "cell_type": "code",
   "execution_count": 13,
   "id": "66fc6332-a375-462e-87b5-16eb5b2415d8",
   "metadata": {
    "tags": []
   },
   "outputs": [],
   "source": [
    "# calculate single model output using looping\n",
    "def predict_single_loop(x, w, b):\n",
    "    n = x.shape[0]\n",
    "    p = 0\n",
    "    for i in range(n):\n",
    "        p_i = w[i] * x[i]\n",
    "        p += p_i\n",
    "    p = p + b\n",
    "    return p"
   ]
  },
  {
   "cell_type": "code",
   "execution_count": 14,
   "id": "8dd4cf74-24c2-4339-a045-89d72a50a5c9",
   "metadata": {
    "tags": []
   },
   "outputs": [
    {
     "name": "stdout",
     "output_type": "stream",
     "text": [
      "x_vec shape (4,), x_vec value: [2104    5    1   45]\n",
      "f_wb shape (), prediction: 459.9999976194083\n"
     ]
    }
   ],
   "source": [
    "# get a row from our training data\n",
    "x_vec = X_train[0,:]\n",
    "print(f\"x_vec shape {x_vec.shape}, x_vec value: {x_vec}\")\n",
    "\n",
    "# make a prediction\n",
    "f_wb = predict_single_loop(x_vec, w_init, b_init)\n",
    "print(f\"f_wb shape {f_wb.shape}, prediction: {f_wb}\")"
   ]
  },
  {
   "cell_type": "code",
   "execution_count": 15,
   "id": "358b313e-0a3c-42a1-9cad-985bd5ab4e24",
   "metadata": {
    "tags": []
   },
   "outputs": [],
   "source": [
    "# calculate singe model output using vector dot product\n",
    "def predict (x, w, b):\n",
    "    p = np.dot(w, x) + b\n",
    "    return p"
   ]
  },
  {
   "cell_type": "code",
   "execution_count": 16,
   "id": "effbf5cd-97cf-4c3b-93c3-fd28c5c13892",
   "metadata": {
    "tags": []
   },
   "outputs": [
    {
     "name": "stdout",
     "output_type": "stream",
     "text": [
      "x_vec shape (4,), x_vec value: [2104    5    1   45]\n",
      "f_wb shape (), prediction: 459.9999976194083\n"
     ]
    }
   ],
   "source": [
    "# get a row from our training data\n",
    "x_vec = X_train[0,:]\n",
    "print(f\"x_vec shape {x_vec.shape}, x_vec value: {x_vec}\")\n",
    "\n",
    "# make a prediction\n",
    "f_wb = predict(x_vec,w_init, b_init)\n",
    "print(f\"f_wb shape {f_wb.shape}, prediction: {f_wb}\")"
   ]
  },
  {
   "cell_type": "markdown",
   "id": "644d0916-94e8-4245-a32c-05c2a2f7eadb",
   "metadata": {
    "tags": []
   },
   "source": [
    "#### <a name=\"section_4\"></a> Compute Cost With Multiple Variable\n",
    "\n",
    "![](./img_mv_compute_cost.JPG)"
   ]
  },
  {
   "cell_type": "code",
   "execution_count": 20,
   "id": "8604bdfe-6ea8-4775-9e5b-ef496d4e522f",
   "metadata": {
    "tags": []
   },
   "outputs": [],
   "source": [
    "def compute_cost(X, y, w, b):\n",
    "    m = X.shape[0]\n",
    "    cost = 0.0\n",
    "    for i in range(m):\n",
    "        f_wb_i = np.dot(w, X[i]) + b\n",
    "        cost = cost + (f_wb_i - y[i]) ** 2\n",
    "    cost = cost / (2 * m)\n",
    "    return cost"
   ]
  },
  {
   "cell_type": "code",
   "execution_count": 21,
   "id": "80b14f32-5e72-4f14-944f-65f586d6de54",
   "metadata": {
    "tags": []
   },
   "outputs": [
    {
     "name": "stdout",
     "output_type": "stream",
     "text": [
      "Cost at optimal w : 1.5578904428966628e-12\n"
     ]
    }
   ],
   "source": [
    "# Compute and display cost using our pre-chosen optimal parameters. \n",
    "cost = compute_cost(X_train, y_train, w_init, b_init)\n",
    "print(f'Cost at optimal w : {cost}')"
   ]
  },
  {
   "cell_type": "markdown",
   "id": "0000d5af-7ac1-4fff-8d7b-2101f5f79ddf",
   "metadata": {},
   "source": [
    "#### <a name=\"section_5\"></a> Gradient Descent With Multiple Variables\n",
    "\n",
    "![](./img_mv_gd_formula.JPG)"
   ]
  },
  {
   "cell_type": "code",
   "execution_count": 24,
   "id": "6b8304df-d41d-47df-aca4-9438f6f73551",
   "metadata": {
    "tags": []
   },
   "outputs": [],
   "source": [
    "# computing gradient\n",
    "\n",
    "def compute_gradient (X, y, w, b):\n",
    "    \"\"\"\n",
    "    Computes the gradient for linear regression \n",
    "    Args:\n",
    "      X (ndarray (m,n)): Data, m examples with n features\n",
    "      y (ndarray (m,)) : target values\n",
    "      w (ndarray (n,)) : model parameters  \n",
    "      b (scalar)       : model parameter\n",
    "      \n",
    "    Returns:\n",
    "      dj_dw (ndarray (n,)): The gradient of the cost w.r.t. the parameters w. \n",
    "      dj_db (scalar):       The gradient of the cost w.r.t. the parameter b. \n",
    "    \"\"\"\n",
    "    m, n = X.shape\n",
    "    dj_dw = np.zeros((n,))\n",
    "    dj_db = 0\n",
    "    \n",
    "    for i in range(m):\n",
    "        err = (np.dot(w, X[i]) + b) - y[i]\n",
    "        for j in range(n):\n",
    "            dj_dw[j] = dj_dw[j] + err * X[i,j]\n",
    "        dj_db = dj_db + err\n",
    "    \n",
    "    dj_dw = dj_dw/m\n",
    "    dj_db = dj_db/m\n",
    "    \n",
    "    return dj_db, dj_dw"
   ]
  },
  {
   "cell_type": "code",
   "execution_count": 25,
   "id": "5ab51d65-baf6-47f5-a4cd-1b425469ca80",
   "metadata": {
    "tags": []
   },
   "outputs": [
    {
     "name": "stdout",
     "output_type": "stream",
     "text": [
      "dj_db at initial w,b: -1.6739251501955248e-06\n",
      "dj_dw at initial w,b: \n",
      " [-2.73e-03 -6.27e-06 -2.22e-06 -6.92e-05]\n"
     ]
    }
   ],
   "source": [
    "#Compute and display gradient \n",
    "tmp_dj_db, tmp_dj_dw = compute_gradient(X_train, y_train, w_init, b_init)\n",
    "print(f'dj_db at initial w,b: {tmp_dj_db}')\n",
    "print(f'dj_dw at initial w,b: \\n {tmp_dj_dw}')"
   ]
  },
  {
   "cell_type": "code",
   "execution_count": 26,
   "id": "a7aa5daf-aed9-42af-bff7-af8390229e99",
   "metadata": {
    "tags": []
   },
   "outputs": [],
   "source": [
    "# gradient descent with multiple variables\n",
    "\n",
    "def gradient_descent(X, y, w_in, b_in, cost_function, gradient_function, alpha, num_iters):\n",
    "    \"\"\"\n",
    "    Performs batch gradient descent to learn theta. Updates theta by taking \n",
    "    num_iters gradient steps with learning rate alpha\n",
    "    \n",
    "    Args:\n",
    "      X (ndarray (m,n))   : Data, m examples with n features\n",
    "      y (ndarray (m,))    : target values\n",
    "      w_in (ndarray (n,)) : initial model parameters  \n",
    "      b_in (scalar)       : initial model parameter\n",
    "      cost_function       : function to compute cost\n",
    "      gradient_function   : function to compute the gradient\n",
    "      alpha (float)       : Learning rate\n",
    "      num_iters (int)     : number of iterations to run gradient descent\n",
    "      \n",
    "    Returns:\n",
    "      w (ndarray (n,)) : Updated values of parameters \n",
    "      b (scalar)       : Updated value of parameter \n",
    "      \"\"\"\n",
    "    \n",
    "    # An array to store cost J at each iteration primarily for graphing later\n",
    "    J_history = []\n",
    "    w = copy.deepcopy(w_in)\n",
    "    b = copy.deepcopy(b_in)\n",
    "    \n",
    "    for i in range (num_iters):\n",
    "        \n",
    "        # calculate gradients\n",
    "        dj_db, dj_dw = gradient_function (X, y, w, b)\n",
    "        \n",
    "        # update params using w, b, alpha & gradients\n",
    "        w = w - alpha * dj_dw\n",
    "        b = b - alpha * dj_db\n",
    "        \n",
    "        # save cost J at each iteration\n",
    "        if i < 100000:\n",
    "            J_history.append (cost_function(X, y, w, b))\n",
    "            \n",
    "        # Print cost every at intervals 10 times or as many iterations if < 10\n",
    "        if i% math.ceil(num_iters / 10) == 0:\n",
    "            print(f\"Iteration {i:4d}: Cost {J_history[-1]:8.2f}   \")\n",
    "        \n",
    "    return w, b, J_history"
   ]
  },
  {
   "cell_type": "code",
   "execution_count": 30,
   "id": "4f9cb6c7-79d5-4526-9ddc-ced0006771d3",
   "metadata": {
    "tags": []
   },
   "outputs": [
    {
     "name": "stdout",
     "output_type": "stream",
     "text": [
      "Iteration    0: Cost  2529.46   \n",
      "Iteration 1000: Cost   686.69   \n",
      "Iteration 2000: Cost   677.19   \n",
      "Iteration 3000: Cost   668.48   \n",
      "Iteration 4000: Cost   660.50   \n",
      "Iteration 5000: Cost   653.19   \n",
      "Iteration 6000: Cost   646.49   \n",
      "Iteration 7000: Cost   640.35   \n",
      "Iteration 8000: Cost   634.72   \n",
      "Iteration 9000: Cost   629.56   \n",
      "b,w found by gradient descent: -0.02,[ 0.22  0.03 -0.11 -0.58] \n"
     ]
    }
   ],
   "source": [
    "# running gradient descent\n",
    "\n",
    "initial_w = np.zeros_like(w_init)\n",
    "initial_b = 0.0\n",
    "\n",
    "iterations = 10000\n",
    "alpha = 5.0e-7\n",
    "\n",
    "w_final, b_final, J_hist = gradient_descent(X_train, y_train, initial_w, initial_b, compute_cost, compute_gradient, alpha, iterations)\n",
    "print(f\"b,w found by gradient descent: {b_final:0.2f},{w_final} \")"
   ]
  },
  {
   "cell_type": "code",
   "execution_count": 41,
   "id": "773f7ae8-dd04-4814-b7db-2faadad62cff",
   "metadata": {
    "tags": []
   },
   "outputs": [
    {
     "name": "stdout",
     "output_type": "stream",
     "text": [
      "X_train=\n",
      " [[2104    5    1   45]\n",
      " [1416    3    2   40]\n",
      " [ 852    2    1   35]]\n",
      "\n",
      "y_train=\n",
      " [460 232 178]\n",
      "\n",
      "\n",
      "b,w found by gradient descent: -0.02,[ 0.22  0.03 -0.11 -0.58]\n",
      "\n",
      "prediction:  430.50230, target value: 460\n",
      "prediction:  283.93451, target value: 232\n",
      "prediction:  164.52212, target value: 178\n"
     ]
    }
   ],
   "source": [
    "# using trained model to predict\n",
    "print (f\"X_train=\\n {X_train}\")\n",
    "print (f\"\\ny_train=\\n {y_train}\\n\\n\")\n",
    "\n",
    "print(f\"b,w found by gradient descent: {b_final:0.2f},{w_final}\\n\")\n",
    "\n",
    "m = X_train.shape[0]\n",
    "for i in range(m):\n",
    "    print(f\"prediction: {np.dot(X_train[i], w_final) + b_final: 0.5f}, target value: {y_train[i]}\")"
   ]
  },
  {
   "cell_type": "code",
   "execution_count": 43,
   "id": "178ddbb6-1460-45ee-83aa-fcb718aa3285",
   "metadata": {
    "tags": []
   },
   "outputs": [
    {
     "data": {
      "image/png": "[encoded data removed]",
      "text/plain": [
       "<Figure size 864x288 with 2 Axes>"
      ]
     },
     "metadata": {
      "needs_background": "light"
     },
     "output_type": "display_data"
    }
   ],
   "source": [
    "# plotting cost vs iterations\n",
    "\n",
    "fig, (ax1, ax2) = plt.subplots(1, 2, constrained_layout=True, figsize=(12, 4))\n",
    "ax1.plot(J_hist)\n",
    "ax2.plot(100 + np.arange(len(J_hist[100:])), J_hist[100:])\n",
    "ax1.set_title(\"Cost vs. iteration\")\n",
    "ax2.set_title(\"Cost vs. iteration (tail)\")\n",
    "\n",
    "ax1.set_ylabel('Cost')\n",
    "ax2.set_ylabel('Cost') \n",
    "\n",
    "ax1.set_xlabel('iteration step')\n",
    "ax2.set_xlabel('iteration step') \n",
    "\n",
    "plt.show()"
   ]
  },
  {
   "cell_type": "code",
   "execution_count": null,
   "id": "346152ac-66a6-4a5d-816c-b55bec2f59f9",
   "metadata": {},
   "outputs": [],
   "source": []
  }
 ],
 "metadata": {
  "kernelspec": {
   "display_name": "Python 3",
   "language": "python",
   "name": "python3"
  },
  "language_info": {
   "codemirror_mode": {
    "name": "ipython",
    "version": 3
   },
   "file_extension": ".py",
   "mimetype": "text/x-python",
   "name": "python",
   "nbconvert_exporter": "python",
   "pygments_lexer": "ipython3",
   "version": "3.8.3"
  }
 },
 "nbformat": 4,
 "nbformat_minor": 5
}
