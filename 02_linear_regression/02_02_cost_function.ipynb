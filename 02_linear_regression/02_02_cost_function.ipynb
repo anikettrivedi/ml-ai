{
 "cells": [
  {
   "cell_type": "code",
   "execution_count": 1,
   "id": "df88f2e7-d94d-46d0-b424-d18423cd98f5",
   "metadata": {},
   "outputs": [],
   "source": [
    "# imports\n",
    "\n",
    "import numpy as np\n",
    "import matplotlib.pyplot as plt"
   ]
  },
  {
   "cell_type": "code",
   "execution_count": 2,
   "id": "01de07b2-05f5-4342-bbef-e7c6d5217e5e",
   "metadata": {
    "tags": []
   },
   "outputs": [],
   "source": [
    "x_train = np.array([1.0, 2.0])           #(size in 1000 square feet)\n",
    "y_train = np.array([300.0, 500.0])           #(price in 1000s of dollars)"
   ]
  },
  {
   "cell_type": "markdown",
   "id": "02335268-0b9c-4dc3-b384-85f6e2e974ff",
   "metadata": {},
   "source": [
    "### cost function\n",
    "\n",
    "![alt text](img_cost_function.JPG)\n",
    "\n",
    "    x -> area in 1000 square foot\n",
    "    y -> price of the house in 1000s of $s\n",
    "    m -> number of training examples\n",
    "    x_i, y_i -> ith training example\n",
    "    w -> parameter (weight)\n",
    "    b -> parameter (bias)"
   ]
  },
  {
   "cell_type": "code",
   "execution_count": 3,
   "id": "0d0a2ddc-2ed4-4fb3-bec6-e56b322d9287",
   "metadata": {
    "tags": []
   },
   "outputs": [],
   "source": [
    "# function to compute cost\n",
    "def compute_cost(x, y, w, b):\n",
    "    \n",
    "    m = x.shape[0]\n",
    "    cost_sum = 0\n",
    "    \n",
    "    for i in range(m):\n",
    "        f_wb = w * x[i] + b\n",
    "        cost = (y[i] - f_wb) ** 2\n",
    "        cost_sum = cost_sum + cost\n",
    "        \n",
    "    total_cost = (1/(2*m)) * cost_sum\n",
    "    \n",
    "    return total_cost"
   ]
  },
  {
   "cell_type": "markdown",
   "id": "e5801ab5-0b75-4ec4-beb6-360a416fd9ce",
   "metadata": {},
   "source": [
    "### cost function visualization\n",
    "\n",
    "![alt_text](img_cost_function_visualization.JPG)"
   ]
  },
  {
   "cell_type": "code",
   "execution_count": 27,
   "id": "4943a158-8906-46e2-b760-735f1a2f3564",
   "metadata": {
    "tags": []
   },
   "outputs": [],
   "source": [
    "# plotting cost function for better visualization with b set as 2.4\n",
    "# b is chosen to near equal the actual optimal value, for the sake of simplicity and ease of\n",
    "# w vs cost visualization\n",
    "\n",
    "x_train = np.array([1.0, 1.7, 2.0, 2.5, 3.0, 3.2])\n",
    "y_train = np.array([250, 300, 480,  430,   630, 730,])\n",
    "\n",
    "b = 2.4\n",
    "w = np.arange(-100, 500, 1)"
   ]
  },
  {
   "cell_type": "code",
   "execution_count": 28,
   "id": "ae97d742-348c-4123-bd16-d69d53e2c2b6",
   "metadata": {
    "tags": []
   },
   "outputs": [],
   "source": [
    "# calculation cost for all combination of w\n",
    "\n",
    "cost = np.zeros(w.shape[0])\n",
    "for i in range(w.shape[0]):\n",
    "    cost [i] = compute_cost(x_train, y_train, w[i], b)"
   ]
  },
  {
   "cell_type": "code",
   "execution_count": 29,
   "id": "bb2527e3-38ff-4766-8d67-aec733895807",
   "metadata": {
    "tags": []
   },
   "outputs": [
    {
     "data": {
      "image/png": "[encoded data removed]",
      "text/plain": [
       "<Figure size 432x288 with 1 Axes>"
      ]
     },
     "metadata": {
      "needs_background": "light"
     },
     "output_type": "display_data"
    }
   ],
   "source": [
    "# plotting w vs cost\n",
    "\n",
    "plt.plot(w, cost, c='r')\n",
    "\n",
    "plt.title (\"w vs cost\")\n",
    "plt.xlabel(\"w\")\n",
    "plt.ylabel(\"cost\")\n",
    "\n",
    "plt.show()"
   ]
  },
  {
   "cell_type": "code",
   "execution_count": 30,
   "id": "9581e88b-758a-4740-8dcd-9bc906834338",
   "metadata": {
    "tags": []
   },
   "outputs": [
    {
     "data": {
      "image/png": "[encoded data removed]",
      "text/plain": [
       "<Figure size 432x288 with 1 Axes>"
      ]
     },
     "metadata": {
      "needs_background": "light"
     },
     "output_type": "display_data"
    }
   ],
   "source": [
    "# we see that cost function minimizes around w = 200\n",
    "# lets use w = 200 and b = 2.4 in our model for prediction and compare with the actual data\n",
    "\n",
    "w = 200\n",
    "b = 2.4\n",
    "\n",
    "# compute function for linear regression model output\n",
    "def compute_model_output(x, w, b):\n",
    "    m = x.shape[0]\n",
    "    f_wb = np.zeros(m)\n",
    "    for i in range(m):\n",
    "        f_wb[i] = w * x[i] + b \n",
    "    return f_wb\n",
    "\n",
    "# calling compute function and plotting the result\n",
    "tmp_f_wb = compute_model_output(x_train, w, b)\n",
    "\n",
    "# plotting model prediction\n",
    "plt.plot(x_train, tmp_f_wb, c='b', label='our prediction')\n",
    "\n",
    "# plotting original training data\n",
    "plt.scatter(x_train, y_train, marker='x', c='r',label='Actual Values')\n",
    "\n",
    "plt.title('housing prices')\n",
    "plt.ylabel('Price (in 1000s of dollars)')\n",
    "plt.xlabel('Size (1000 sqft)')\n",
    "\n",
    "plt.legend()\n",
    "plt.show()"
   ]
  },
  {
   "cell_type": "markdown",
   "id": "d060a6f8-389d-4e84-a8cf-447f2910f323",
   "metadata": {
    "tags": []
   },
   "source": [
    "    - from the above plot we can see our model fits decently with the actual data.\n",
    "    - while training actual model, we will have to come up with optimal values of both w & b using gradient descent algorithm.\n",
    "    - plotting w vs cost or b vs cost is simpler as it can be depicted in 2D graphs\n",
    "    - plotting w, b & cost is little bit more complicated as the we need 3 axises to visualize them (we can use contours or 3D graphs to visualize them), we will do this once we have implemented gradient descent for linear regression"
   ]
  },
  {
   "cell_type": "code",
   "execution_count": null,
   "id": "336c4f34-13c3-4858-a07d-2e52ebe2d3dc",
   "metadata": {},
   "outputs": [],
   "source": []
  }
 ],
 "metadata": {
  "kernelspec": {
   "display_name": "Python 3",
   "language": "python",
   "name": "python3"
  },
  "language_info": {
   "codemirror_mode": {
    "name": "ipython",
    "version": 3
   },
   "file_extension": ".py",
   "mimetype": "text/x-python",
   "name": "python",
   "nbconvert_exporter": "python",
   "pygments_lexer": "ipython3",
   "version": "3.8.3"
  }
 },
 "nbformat": 4,
 "nbformat_minor": 5
}
