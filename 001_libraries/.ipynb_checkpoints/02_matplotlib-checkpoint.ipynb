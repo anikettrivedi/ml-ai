{
 "cells": [
  {
   "cell_type": "markdown",
   "id": "5730b79d-9441-49ad-a6bc-60f224ab8ec9",
   "metadata": {},
   "source": [
    "# matplot lib resources\n",
    "\n",
    "1. matplotlib basics: https://www.w3schools.com/python/matplotlib_intro.asp\n",
    "2. matplotlib documentation: https://matplotlib.org/stable/api/index"
   ]
  },
  {
   "cell_type": "code",
   "execution_count": null,
   "id": "722e4d76-6fbf-45f3-90a1-3d622037a5b1",
   "metadata": {},
   "outputs": [],
   "source": []
  }
 ],
 "metadata": {
  "kernelspec": {
   "display_name": "Python 3",
   "language": "python",
   "name": "python3"
  },
  "language_info": {
   "codemirror_mode": {
    "name": "ipython",
    "version": 3
   },
   "file_extension": ".py",
   "mimetype": "text/x-python",
   "name": "python",
   "nbconvert_exporter": "python",
   "pygments_lexer": "ipython3",
   "version": "3.8.3"
  }
 },
 "nbformat": 4,
 "nbformat_minor": 5
}
