{
 "cells": [
  {
   "cell_type": "code",
   "execution_count": 5,
   "id": "95961bc5-8659-4017-b7a1-04858c4a5400",
   "metadata": {
    "tags": []
   },
   "outputs": [],
   "source": [
    "# imports\n",
    "import numpy as np\n",
    "import matplotlib.pyplot as plt"
   ]
  },
  {
   "cell_type": "code",
   "execution_count": 26,
   "id": "23bb2836-fb3d-4843-ad07-3a70e2970100",
   "metadata": {
    "tags": []
   },
   "outputs": [
    {
     "name": "stdout",
     "output_type": "stream",
     "text": [
      "array = [1 2 3 4 5]\n",
      "\n",
      "numpy version = 1.24.2\n",
      "\n",
      "numpy array type = <class 'numpy.ndarray'>\n",
      "\n",
      "tuple_object type = <class 'tuple'>\n",
      "numpy array type = <class 'numpy.ndarray'>\n",
      "\n",
      "0-D array = 42\n",
      "0-D array shape = ()\n",
      "\n",
      "1-D array = [1 2 3 4 5]\n",
      "1-D array shape = (5,)\n",
      "\n",
      "2-D array =\n",
      "[[1 2 3]\n",
      " [4 5 6]]\n",
      "2-D array shape = (2, 3)\n",
      "\n",
      "3-D array =\n",
      "[[[1 2 3]\n",
      "  [4 5 6]]\n",
      "\n",
      " [[1 2 3]\n",
      "  [4 5 6]]]\n",
      "3-D array shape = (2, 2, 3)\n"
     ]
    }
   ],
   "source": [
    "# numpy use examples\n",
    "\n",
    "# numpy array\n",
    "array = np.array([1, 2, 3, 4, 5]) \n",
    "print (f'array = {array}')\n",
    "\n",
    "# numpy version\n",
    "print (f'\\nnumpy version = {np.__version__}')\n",
    "\n",
    "# numpy object type\n",
    "print (f'\\nnumpy array type = {type(array)}')\n",
    "\n",
    "# creating numpy array from tuple\n",
    "tuple_object = (1, 2, 3, 4, 5)\n",
    "array = np.array(tuple_object)\n",
    "print (f'\\ntuple_object type = {type(tuple_object)}')\n",
    "print (f'numpy array type = {type(array)}')\n",
    "\n",
    "# creating 0-D array\n",
    "array_0d = np.array(42)\n",
    "print(f'\\n0-D array = {array_0d}')\n",
    "print(f'0-D array shape = {array_0d.shape}')\n",
    "\n",
    "# creating 1-D array\n",
    "array_1d = np.array([1, 2, 3, 4, 5])\n",
    "print(f'\\n1-D array = {array_1d}')\n",
    "print(f'1-D array shape = {array_1d.shape}')\n",
    "\n",
    "# creating 2-D array\n",
    "array_2d = np.array([[1, 2, 3], [4, 5, 6]])\n",
    "print(f'\\n2-D array =\\n{array_2d}')\n",
    "print(f'2-D array shape = {array_2d.shape}')\n",
    "\n",
    "# creating 3-D array\n",
    "array_3d = np.array([[[1, 2, 3], [4, 5, 6]], [[1, 2, 3], [4, 5, 6]]])\n",
    "print(f'\\n3-D array =\\n{array_3d}')\n",
    "print(f'3-D array shape = {array_3d.shape}')\n"
   ]
  },
  {
   "cell_type": "code",
   "execution_count": null,
   "id": "009a3af5-88e9-431e-bc7b-6befaddd4ad9",
   "metadata": {},
   "outputs": [],
   "source": []
  }
 ],
 "metadata": {
  "kernelspec": {
   "display_name": "Python 3",
   "language": "python",
   "name": "python3"
  },
  "language_info": {
   "codemirror_mode": {
    "name": "ipython",
    "version": 3
   },
   "file_extension": ".py",
   "mimetype": "text/x-python",
   "name": "python",
   "nbconvert_exporter": "python",
   "pygments_lexer": "ipython3",
   "version": "3.8.3"
  }
 },
 "nbformat": 4,
 "nbformat_minor": 5
}
