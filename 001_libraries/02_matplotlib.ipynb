{
 "cells": [
  {
   "cell_type": "markdown",
   "id": "5730b79d-9441-49ad-a6bc-60f224ab8ec9",
   "metadata": {
    "tags": []
   },
   "source": [
    "# matplot lib resources\n",
    "\n",
    "1. matplotlib basics: https://www.w3schools.com/python/matplotlib_intro.asp\n",
    "2. matplotlib documentation: https://matplotlib.org/stable/api/index"
   ]
  },
  {
   "cell_type": "code",
   "execution_count": 2,
   "id": "722e4d76-6fbf-45f3-90a1-3d622037a5b1",
   "metadata": {
    "tags": []
   },
   "outputs": [
    {
     "name": "stdout",
     "output_type": "stream",
     "text": [
      "3.7.1\n"
     ]
    }
   ],
   "source": [
    "# imports\n",
    "import matplotlib\n",
    "print(matplotlib.__version__)"
   ]
  },
  {
   "cell_type": "markdown",
   "id": "1430fa2b-0dde-4118-a033-5a70d215f28d",
   "metadata": {
    "tags": []
   },
   "source": [
    "## matplotlib pyplot submodule "
   ]
  },
  {
   "cell_type": "code",
   "execution_count": 4,
   "id": "f83e466a-474f-463c-aa1e-aec2828c4e08",
   "metadata": {
    "tags": []
   },
   "outputs": [],
   "source": [
    "import matplotlib.pyplot as plt\n",
    "import numpy as np"
   ]
  },
  {
   "cell_type": "code",
   "execution_count": null,
   "id": "093d90b4-5e8e-4c56-9eae-e881c3b1235f",
   "metadata": {
    "tags": []
   },
   "outputs": [],
   "source": [
    "# plotting a line between 2 points\n",
    "xpoints = np.array([0, 6])\n",
    "ypoints = np.array([0, 250])\n",
    "\n",
    "print(f'xpoints = {xpoints}')\n",
    "print(f'ypoints = {ypoints}')\n",
    "\n",
    "plt.plot(xpoints, ypoints)\n",
    "plt.show()"
   ]
  },
  {
   "cell_type": "code",
   "execution_count": null,
   "id": "48aa42b1-6b01-4b72-85fe-6e5581ba9c10",
   "metadata": {
    "tags": []
   },
   "outputs": [],
   "source": [
    "# plotting without lines\n",
    "xpoints = np.array([1, 8])\n",
    "ypoints = np.array([3, 10])\n",
    "\n",
    "plt.plot(xpoints, ypoints, 'o')\n",
    "plt.show()"
   ]
  },
  {
   "cell_type": "code",
   "execution_count": null,
   "id": "f959cd8d-f8c1-4b36-87c8-1df78d1f21e1",
   "metadata": {
    "tags": []
   },
   "outputs": [],
   "source": [
    "# plotting multiple points\n",
    "xpoints = np.array([1, 2, 6, 8])\n",
    "ypoints = np.array([3, 8, 1, 10])\n",
    "\n",
    "plt.plot(xpoints, ypoints)\n",
    "plt.show()"
   ]
  },
  {
   "cell_type": "code",
   "execution_count": null,
   "id": "66498131-d688-4581-9490-b5898dfb951b",
   "metadata": {
    "tags": []
   },
   "outputs": [],
   "source": [
    "# plotting with default xpoints\n",
    "ypoints = np.array([3, 8, 1, 10, 5, 7])\n",
    "\n",
    "plt.plot(ypoints)\n",
    "plt.show()"
   ]
  },
  {
   "cell_type": "code",
   "execution_count": null,
   "id": "b84d634a-ee24-4290-b55b-2ed395739f33",
   "metadata": {},
   "outputs": [],
   "source": []
  }
 ],
 "metadata": {
  "kernelspec": {
   "display_name": "Python 3",
   "language": "python",
   "name": "python3"
  },
  "language_info": {
   "codemirror_mode": {
    "name": "ipython",
    "version": 3
   },
   "file_extension": ".py",
   "mimetype": "text/x-python",
   "name": "python",
   "nbconvert_exporter": "python",
   "pygments_lexer": "ipython3",
   "version": "3.8.3"
  }
 },
 "nbformat": 4,
 "nbformat_minor": 5
}
