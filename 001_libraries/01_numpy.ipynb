{
 "cells": [
  {
   "cell_type": "code",
   "execution_count": 1,
   "id": "95961bc5-8659-4017-b7a1-04858c4a5400",
   "metadata": {
    "tags": []
   },
   "outputs": [],
   "source": [
    "# imports\n",
    "import numpy as np"
   ]
  },
  {
   "cell_type": "code",
   "execution_count": 2,
   "id": "23bb2836-fb3d-4843-ad07-3a70e2970100",
   "metadata": {
    "tags": []
   },
   "outputs": [
    {
     "name": "stdout",
     "output_type": "stream",
     "text": [
      "array = [1 2 3 4 5]\n",
      "\n",
      "numpy version = 1.24.2\n",
      "\n",
      "numpy array type = <class 'numpy.ndarray'>\n",
      "\n",
      "tuple_object type = <class 'tuple'>\n",
      "numpy array type = <class 'numpy.ndarray'>\n",
      "\n",
      "0-D array = 42\n",
      "0-D array shape = ()\n",
      "0-D array dimentions = 0\n",
      "\n",
      "1-D array = [1 2 3 4 5]\n",
      "1-D array shape = (5,)\n",
      "1-D array dimentions = 1\n",
      "\n",
      "2-D array =\n",
      "[[1 2 3]\n",
      " [4 5 6]]\n",
      "2-D array shape = (2, 3)\n",
      "2-D array dimentions = 2\n",
      "\n",
      "3-D array =\n",
      "[[[1 2 3]\n",
      "  [4 5 6]]\n",
      "\n",
      " [[1 2 3]\n",
      "  [4 5 6]]]\n",
      "3-D array shape = (2, 2, 3)\n",
      "3-D array dimentions = 3\n",
      "\n",
      "n-D array =\n",
      "[[[[[[[[[[1 2 3 4]]]]]]]]]]\n",
      "n-D array shape = (1, 1, 1, 1, 1, 1, 1, 1, 1, 4)\n",
      "n-D array dimentions = 10\n"
     ]
    }
   ],
   "source": [
    "# numpy use examples\n",
    "\n",
    "# numpy array\n",
    "array = np.array([1, 2, 3, 4, 5]) \n",
    "print (f'array = {array}')\n",
    "\n",
    "# numpy version\n",
    "print (f'\\nnumpy version = {np.__version__}')\n",
    "\n",
    "# numpy object type\n",
    "print (f'\\nnumpy array type = {type(array)}')\n",
    "\n",
    "# creating numpy array from tuple\n",
    "tuple_object = (1, 2, 3, 4, 5)\n",
    "array = np.array(tuple_object)\n",
    "print (f'\\ntuple_object type = {type(tuple_object)}')\n",
    "print (f'numpy array type = {type(array)}')\n",
    "\n",
    "# creating 0-D array\n",
    "array_0d = np.array(42)\n",
    "print(f'\\n0-D array = {array_0d}')\n",
    "print(f'0-D array shape = {array_0d.shape}')\n",
    "print(f'0-D array dimentions = {array_0d.ndim}')\n",
    "\n",
    "# creating 1-D array\n",
    "array_1d = np.array([1, 2, 3, 4, 5])\n",
    "print(f'\\n1-D array = {array_1d}')\n",
    "print(f'1-D array shape = {array_1d.shape}')\n",
    "print(f'1-D array dimentions = {array_1d.ndim}')\n",
    "\n",
    "\n",
    "# creating 2-D array\n",
    "array_2d = np.array([[1, 2, 3], [4, 5, 6]])\n",
    "print(f'\\n2-D array =\\n{array_2d}')\n",
    "print(f'2-D array shape = {array_2d.shape}')\n",
    "print(f'2-D array dimentions = {array_2d.ndim}')\n",
    "\n",
    "\n",
    "# creating 3-D array\n",
    "array_3d = np.array([[[1, 2, 3], [4, 5, 6]], [[1, 2, 3], [4, 5, 6]]])\n",
    "print(f'\\n3-D array =\\n{array_3d}')\n",
    "print(f'3-D array shape = {array_3d.shape}')\n",
    "print(f'3-D array dimentions = {array_3d.ndim}')\n",
    "\n",
    "# creating a nth dimention numpy array\n",
    "n = 10\n",
    "array_nd = np.array([1, 2, 3, 4], ndmin=n)\n",
    "print(f'\\nn-D array =\\n{array_nd}')\n",
    "print(f'n-D array shape = {array_nd.shape}')\n",
    "print(f'n-D array dimentions = {array_nd.ndim}')\n",
    "\n"
   ]
  },
  {
   "cell_type": "code",
   "execution_count": 17,
   "id": "009a3af5-88e9-431e-bc7b-6befaddd4ad9",
   "metadata": {},
   "outputs": [
    {
     "name": "stdout",
     "output_type": "stream",
     "text": [
      "\n",
      "1-D array = [1 2 3 4 5]\n",
      "\n",
      "\n",
      "0th element of 1-D array = 1\n",
      "1th element of 1-D array = 2\n",
      "2th element of 1-D array = 3\n",
      "3th element of 1-D array = 4\n",
      "4th element of 1-D array = 5\n",
      "\n",
      "\n",
      "last element of 1-D array = 5\n",
      "\n",
      "2-D array =\n",
      "[[1 2 3]\n",
      " [4 5 6]]\n",
      "\n",
      "\n",
      "0th row, 0th column of 2-D array = 1\n",
      "0th row, 1th column of 2-D array = 2\n",
      "0th row, 2th column of 2-D array = 3\n",
      "1th row, 0th column of 2-D array = 4\n",
      "1th row, 1th column of 2-D array = 5\n",
      "1th row, 2th column of 2-D array = 6\n",
      "\n",
      "\n",
      "last row of 2-D array = [4 5 6]\n",
      "last element of 2-D array = 6\n"
     ]
    }
   ],
   "source": [
    "# numpy array indexing/accessing\n",
    "print(f'\\n1-D array = {array_1d}')\n",
    "\n",
    "print ('\\n')\n",
    "for i in range(0, array_1d.shape[0]):\n",
    "    print (f'{i}th element of 1-D array = {array_1d[i]}')\n",
    "    \n",
    "print ('\\n')\n",
    "print (f'last element of 1-D array = {array_1d[-1]}')\n",
    "\n",
    "print(f'\\n2-D array =\\n{array_2d}')\n",
    "\n",
    "print ('\\n')\n",
    "for i in range(0, array_2d.shape[0]):\n",
    "    for j in range (0, array_2d.shape[1]):\n",
    "        print (f'{i}th row, {j}th column of 2-D array = {array_2d[i][j]}')\n",
    "\n",
    "print ('\\n')\n",
    "print (f'last row of 2-D array = {array_2d[-1]}')\n",
    "print (f'last element of 2-D array = {array_2d[-1][-1]}')"
   ]
  },
  {
   "cell_type": "code",
   "execution_count": 30,
   "id": "281fb0ef-5bce-4a25-85ea-78674c26d503",
   "metadata": {
    "tags": []
   },
   "outputs": [
    {
     "name": "stdout",
     "output_type": "stream",
     "text": [
      "[2 3 4]\n",
      "[3 4 5]\n",
      "[1 2]\n",
      "[3 4]\n",
      "\n",
      "\n",
      "[1 3]\n",
      "\n",
      "\n",
      "[[ 1  2  3  4  5]\n",
      " [ 6  7  8  9 10]]\n",
      "[7 8 9]\n"
     ]
    }
   ],
   "source": [
    "# 1-D array slicing (startIndex, endIndex - excluded)\n",
    "print(array_1d[1:4])\n",
    "print(array_1d[2:])\n",
    "print(array_1d[:2])\n",
    "print(array_1d[-3:-1])\n",
    "\n",
    "# 1-D slicing with step (startIndex, endIndex - excluded, stepSize)\n",
    "print('\\n')\n",
    "print(array_1d[0:4:2])\n",
    "\n",
    "# 2-D array slicing \n",
    "# From the second element, slice elements from index 1 to index 4 (not included):\n",
    "arr = np.array([[1, 2, 3, 4, 5], [6, 7, 8, 9, 10]])\n",
    "print('\\n')\n",
    "print(arr)\n",
    "print(arr[1, 1:4]) "
   ]
  },
  {
   "cell_type": "code",
   "execution_count": 34,
   "id": "2975bf43-f64d-40a7-9eb9-cc8e69848c0d",
   "metadata": {
    "tags": []
   },
   "outputs": [
    {
     "name": "stdout",
     "output_type": "stream",
     "text": [
      "\n",
      "\n",
      "[1 2 3 4]\n",
      "int32\n",
      "\n",
      "\n",
      "['apple' 'banana' 'cherry']\n",
      "<U6\n",
      "\n",
      "\n",
      "[b'1' b'2' b'3' b'4']\n",
      "|S1\n",
      "\n",
      "\n",
      "float64\n",
      "[1 2 3]\n",
      "int32\n"
     ]
    }
   ],
   "source": [
    "# numpy data types\n",
    "\n",
    "print('\\n')\n",
    "arr = np.array([1, 2, 3, 4], dtype='i4')\n",
    "print(arr)\n",
    "print(arr.dtype)\n",
    "\n",
    "print('\\n')\n",
    "arr = np.array(['apple', 'banana', 'cherry'])\n",
    "print(arr)\n",
    "print(arr.dtype) \n",
    "\n",
    "# creating array with specific datatype\n",
    "print('\\n')\n",
    "arr = np.array([1, 2, 3, 4], dtype='S')\n",
    "print(arr)\n",
    "print(arr.dtype) \n",
    "\n",
    "\n",
    "# Converting Data Type on Existing Arrays\n",
    "print('\\n')\n",
    "arr = np.array([1.1, 2.1, 3.1])\n",
    "print(arr.dtype)\n",
    "newarr = arr.astype('i')\n",
    "print(newarr)\n",
    "print(newarr.dtype)"
   ]
  },
  {
   "cell_type": "code",
   "execution_count": null,
   "id": "3d08db28-c89d-4440-912e-0ebe74c37cf6",
   "metadata": {},
   "outputs": [],
   "source": []
  }
 ],
 "metadata": {
  "kernelspec": {
   "display_name": "Python 3",
   "language": "python",
   "name": "python3"
  },
  "language_info": {
   "codemirror_mode": {
    "name": "ipython",
    "version": 3
   },
   "file_extension": ".py",
   "mimetype": "text/x-python",
   "name": "python",
   "nbconvert_exporter": "python",
   "pygments_lexer": "ipython3",
   "version": "3.8.3"
  }
 },
 "nbformat": 4,
 "nbformat_minor": 5
}
